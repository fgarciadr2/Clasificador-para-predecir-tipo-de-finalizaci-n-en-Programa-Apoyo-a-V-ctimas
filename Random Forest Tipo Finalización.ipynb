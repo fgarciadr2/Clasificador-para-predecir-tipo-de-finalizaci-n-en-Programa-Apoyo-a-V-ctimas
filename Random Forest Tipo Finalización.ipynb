{
 "cells": [
  {
   "cell_type": "code",
   "execution_count": 1,
   "id": "bcef0b3f",
   "metadata": {},
   "outputs": [],
   "source": [
    "import pandas as pd\n",
    "import sklearn as skl\n",
    "import pathlib\n",
    "import os\n",
    "import re\n",
    "import numpy as np\n",
    "\n",
    "from sklearn.model_selection import train_test_split\n",
    "from sklearn.ensemble import RandomForestClassifier\n",
    "from sklearn import preprocessing\n",
    "from sklearn.metrics import accuracy_score, confusion_matrix, precision_score, recall_score, roc_auc_score, roc_curve, f1_score\n",
    "from datetime import datetime\n",
    "\n",
    "le = preprocessing.LabelEncoder()\n"
   ]
  },
  {
   "cell_type": "code",
   "execution_count": 2,
   "id": "351a52b6",
   "metadata": {},
   "outputs": [],
   "source": [
    "path = \"C:/Users/felip/OneDrive - Microsoft/PAV/Bases de datos 2022\"\n",
    "os.chdir(pathlib.Path(path))"
   ]
  },
  {
   "cell_type": "code",
   "execution_count": 3,
   "id": "29264f09",
   "metadata": {},
   "outputs": [],
   "source": [
    "ssr = pd.read_csv(\"SSR.csv\", encoding='ISO-8859-1', on_bad_lines='skip', delimiter = \";\", low_memory = False)\n",
    "ssr = pd.DataFrame(ssr)\n",
    "ssr = ssr.dropna(subset=[\"Tipo Finalización\"])"
   ]
  },
  {
   "cell_type": "code",
   "execution_count": 4,
   "id": "93963498",
   "metadata": {},
   "outputs": [
    {
     "data": {
      "text/plain": [
       "Index(['Fecha Ingreso', 'Mes Ingreso', 'Año Ingreso', 'N° Expediente', 'CAVD',\n",
       "       'Tipo Documento', 'Dato Rut/Pasaporte', 'Nacionalidad', 'Nombre',\n",
       "       'Apellidos', 'Domicilio', 'Comuna', 'Comuna Delito', 'Región', 'Sexo',\n",
       "       'Género', 'Edad', 'Fecha Nacimiento', 'Código Área', 'Teléfono Fijo',\n",
       "       'Código Área Celular', 'Teléfono Celular', 'Tipo Víctima',\n",
       "       'Vía Ingreso', 'Otra Vía Ingreso', 'Delito', 'Otro Delito',\n",
       "       'Hecho Público', 'Fecha Delito', 'Mes Delito', 'Año Delito',\n",
       "       'Contexto VIF', 'Estado Proceso', 'Tipo Finalización',\n",
       "       'Fecha Finalización', 'Mes Finalización', 'Año Finalización',\n",
       "       'Vigencia', 'Nivel Logro', 'Visto Bueno', 'Bloqueo', 'Duración',\n",
       "       'Marca de Deserción', 'Motivo Deserción', 'derivacion',\n",
       "       'tipoDerivacion', 'lugarDerivacion', 'Observaciones Generales',\n",
       "       'Breve Relato', 'Discapacidad', 'Otra discapacidad',\n",
       "       'Nivel de Discapacidad', 'Factor(es) de Riesgo', 'Motivo Ingreso',\n",
       "       'Unnamed: 54', 'Unnamed: 55', 'Unnamed: 56', 'Unnamed: 57',\n",
       "       'Unnamed: 58', 'Unnamed: 59', 'Unnamed: 60', 'Unnamed: 61',\n",
       "       'Unnamed: 62', 'Unnamed: 63'],\n",
       "      dtype='object')"
      ]
     },
     "execution_count": 4,
     "metadata": {},
     "output_type": "execute_result"
    }
   ],
   "source": [
    "ssr.columns"
   ]
  },
  {
   "cell_type": "code",
   "execution_count": 5,
   "id": "44b98f80",
   "metadata": {},
   "outputs": [],
   "source": [
    "ssr['Fecha Ingreso'] = pd.to_datetime(ssr['Fecha Ingreso'], format = \"%d-%m-%Y\")\n",
    "ssr['Fecha Finalización'] = pd.to_datetime(ssr['Fecha Finalización'], format = \"%d-%m-%Y\")\n",
    "ssr[\"Duración\"] = ssr[\"Fecha Finalización\"] - ssr[\"Fecha Ingreso\"]"
   ]
  },
  {
   "cell_type": "code",
   "execution_count": 6,
   "id": "2631a663",
   "metadata": {},
   "outputs": [],
   "source": [
    "x = ssr.filter(items=[\"Mes Ingreso\", 'CAVD', 'Nacionalidad', \"Comuna\", \"Comuna Delito\", \"Region\", \"Sexo\", \"Edad\",\n",
    "                 \"Tipo Víctima\", \"Vía Ingreso\", \"Delito\", \"Contexto VIF\"])\n",
    "\n",
    "y = ssr.filter(items = [\"Tipo Finalización\"])\n",
    "\n"
   ]
  },
  {
   "cell_type": "code",
   "execution_count": 7,
   "id": "fb1e65be",
   "metadata": {},
   "outputs": [
    {
     "name": "stderr",
     "output_type": "stream",
     "text": [
      "C:\\Users\\felip\\anaconda3\\lib\\site-packages\\sklearn\\preprocessing\\_label.py:115: DataConversionWarning: A column-vector y was passed when a 1d array was expected. Please change the shape of y to (n_samples, ), for example using ravel().\n",
      "  y = column_or_1d(y, warn=True)\n"
     ]
    }
   ],
   "source": [
    "\n",
    "\n",
    "for i in range(len(x.columns)):\n",
    "    x.iloc[:,i] = le.fit_transform(x.iloc[:,i])\n",
    "\n",
    "y = le.fit_transform(y)"
   ]
  },
  {
   "cell_type": "code",
   "execution_count": 8,
   "id": "2b989853",
   "metadata": {},
   "outputs": [],
   "source": [
    "x_train, x_test, y_train, y_test = train_test_split(x, y, test_size=0.3, random_state=44)\n"
   ]
  },
  {
   "cell_type": "code",
   "execution_count": 9,
   "id": "a1cd5ad4",
   "metadata": {},
   "outputs": [
    {
     "data": {
      "text/plain": [
       "RandomForestClassifier(n_estimators=50, random_state=44)"
      ]
     },
     "execution_count": 9,
     "metadata": {},
     "output_type": "execute_result"
    }
   ],
   "source": [
    "rf_model = RandomForestClassifier(n_estimators=50, max_features=\"auto\", random_state=44)\n",
    "rf_model.fit(x_train, y_train)"
   ]
  },
  {
   "cell_type": "code",
   "execution_count": 10,
   "id": "3df402e3",
   "metadata": {},
   "outputs": [],
   "source": [
    "predictions = rf_model.predict(x_test)"
   ]
  },
  {
   "cell_type": "code",
   "execution_count": 11,
   "id": "05c4d90c",
   "metadata": {},
   "outputs": [
    {
     "data": {
      "text/plain": [
       "0.4666438330098565"
      ]
     },
     "execution_count": 11,
     "metadata": {},
     "output_type": "execute_result"
    }
   ],
   "source": [
    "accuracy_score(y_test, predictions)"
   ]
  }
 ],
 "metadata": {
  "kernelspec": {
   "display_name": "Python 3 (ipykernel)",
   "language": "python",
   "name": "python3"
  },
  "language_info": {
   "codemirror_mode": {
    "name": "ipython",
    "version": 3
   },
   "file_extension": ".py",
   "mimetype": "text/x-python",
   "name": "python",
   "nbconvert_exporter": "python",
   "pygments_lexer": "ipython3",
   "version": "3.9.12"
  }
 },
 "nbformat": 4,
 "nbformat_minor": 5
}
